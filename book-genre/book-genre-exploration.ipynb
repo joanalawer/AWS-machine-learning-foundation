{
 "cells": [
  {
   "cell_type": "markdown",
   "id": "4166f009",
   "metadata": {},
   "source": [
    "### Loading Data"
   ]
  },
  {
   "cell_type": "code",
   "execution_count": 1,
   "id": "d119929f",
   "metadata": {},
   "outputs": [
    {
     "data": {
      "text/html": [
       "<div>\n",
       "<style scoped>\n",
       "    .dataframe tbody tr th:only-of-type {\n",
       "        vertical-align: middle;\n",
       "    }\n",
       "\n",
       "    .dataframe tbody tr th {\n",
       "        vertical-align: top;\n",
       "    }\n",
       "\n",
       "    .dataframe thead th {\n",
       "        text-align: right;\n",
       "    }\n",
       "</style>\n",
       "<table border=\"1\" class=\"dataframe\">\n",
       "  <thead>\n",
       "    <tr style=\"text-align: right;\">\n",
       "      <th></th>\n",
       "      <th>index</th>\n",
       "      <th>title</th>\n",
       "      <th>genre</th>\n",
       "      <th>summary</th>\n",
       "    </tr>\n",
       "  </thead>\n",
       "  <tbody>\n",
       "    <tr>\n",
       "      <th>0</th>\n",
       "      <td>0</td>\n",
       "      <td>Drowned Wednesday</td>\n",
       "      <td>fantasy</td>\n",
       "      <td>Drowned Wednesday is the first Trustee among ...</td>\n",
       "    </tr>\n",
       "    <tr>\n",
       "      <th>1</th>\n",
       "      <td>1</td>\n",
       "      <td>The Lost Hero</td>\n",
       "      <td>fantasy</td>\n",
       "      <td>As the book opens, Jason awakens on a school ...</td>\n",
       "    </tr>\n",
       "    <tr>\n",
       "      <th>2</th>\n",
       "      <td>2</td>\n",
       "      <td>The Eyes of the Overworld</td>\n",
       "      <td>fantasy</td>\n",
       "      <td>Cugel is easily persuaded by the merchant Fia...</td>\n",
       "    </tr>\n",
       "    <tr>\n",
       "      <th>3</th>\n",
       "      <td>3</td>\n",
       "      <td>Magic's Promise</td>\n",
       "      <td>fantasy</td>\n",
       "      <td>The book opens with Herald-Mage Vanyel return...</td>\n",
       "    </tr>\n",
       "    <tr>\n",
       "      <th>4</th>\n",
       "      <td>4</td>\n",
       "      <td>Taran Wanderer</td>\n",
       "      <td>fantasy</td>\n",
       "      <td>Taran and Gurgi have returned to Caer Dallben...</td>\n",
       "    </tr>\n",
       "    <tr>\n",
       "      <th>...</th>\n",
       "      <td>...</td>\n",
       "      <td>...</td>\n",
       "      <td>...</td>\n",
       "      <td>...</td>\n",
       "    </tr>\n",
       "    <tr>\n",
       "      <th>4652</th>\n",
       "      <td>4652</td>\n",
       "      <td>Hounded</td>\n",
       "      <td>fantasy</td>\n",
       "      <td>Atticus O’Sullivan, last of the Druids, lives ...</td>\n",
       "    </tr>\n",
       "    <tr>\n",
       "      <th>4653</th>\n",
       "      <td>4653</td>\n",
       "      <td>Charlie and the Chocolate Factory</td>\n",
       "      <td>fantasy</td>\n",
       "      <td>Charlie Bucket's wonderful adventure begins wh...</td>\n",
       "    </tr>\n",
       "    <tr>\n",
       "      <th>4654</th>\n",
       "      <td>4654</td>\n",
       "      <td>Red Rising</td>\n",
       "      <td>fantasy</td>\n",
       "      <td>\"I live for the dream that my children will be...</td>\n",
       "    </tr>\n",
       "    <tr>\n",
       "      <th>4655</th>\n",
       "      <td>4655</td>\n",
       "      <td>Frostbite</td>\n",
       "      <td>fantasy</td>\n",
       "      <td>Rose loves Dimitri, Dimitri might love Tasha, ...</td>\n",
       "    </tr>\n",
       "    <tr>\n",
       "      <th>4656</th>\n",
       "      <td>4656</td>\n",
       "      <td>Radiance</td>\n",
       "      <td>fantasy</td>\n",
       "      <td>The Prince of no value\\nBrishen Khaskem, princ...</td>\n",
       "    </tr>\n",
       "  </tbody>\n",
       "</table>\n",
       "<p>4657 rows × 4 columns</p>\n",
       "</div>"
      ],
      "text/plain": [
       "      index                              title    genre  \\\n",
       "0         0                  Drowned Wednesday  fantasy   \n",
       "1         1                      The Lost Hero  fantasy   \n",
       "2         2          The Eyes of the Overworld  fantasy   \n",
       "3         3                    Magic's Promise  fantasy   \n",
       "4         4                     Taran Wanderer  fantasy   \n",
       "...     ...                                ...      ...   \n",
       "4652   4652                            Hounded  fantasy   \n",
       "4653   4653  Charlie and the Chocolate Factory  fantasy   \n",
       "4654   4654                         Red Rising  fantasy   \n",
       "4655   4655                          Frostbite  fantasy   \n",
       "4656   4656                           Radiance  fantasy   \n",
       "\n",
       "                                                summary  \n",
       "0      Drowned Wednesday is the first Trustee among ...  \n",
       "1      As the book opens, Jason awakens on a school ...  \n",
       "2      Cugel is easily persuaded by the merchant Fia...  \n",
       "3      The book opens with Herald-Mage Vanyel return...  \n",
       "4      Taran and Gurgi have returned to Caer Dallben...  \n",
       "...                                                 ...  \n",
       "4652  Atticus O’Sullivan, last of the Druids, lives ...  \n",
       "4653  Charlie Bucket's wonderful adventure begins wh...  \n",
       "4654  \"I live for the dream that my children will be...  \n",
       "4655  Rose loves Dimitri, Dimitri might love Tasha, ...  \n",
       "4656  The Prince of no value\\nBrishen Khaskem, princ...  \n",
       "\n",
       "[4657 rows x 4 columns]"
      ]
     },
     "execution_count": 1,
     "metadata": {},
     "output_type": "execute_result"
    }
   ],
   "source": [
    "import pandas as pd\n",
    "books = pd.read_csv(\"data.csv\")\n",
    "books"
   ]
  },
  {
   "cell_type": "code",
   "execution_count": 2,
   "id": "73e60480",
   "metadata": {},
   "outputs": [
    {
     "data": {
      "text/plain": [
       "(4657, 4)"
      ]
     },
     "execution_count": 2,
     "metadata": {},
     "output_type": "execute_result"
    }
   ],
   "source": [
    "books.shape"
   ]
  },
  {
   "cell_type": "code",
   "execution_count": 3,
   "id": "14ca9d4f",
   "metadata": {},
   "outputs": [
    {
     "name": "stdout",
     "output_type": "stream",
     "text": [
      "<class 'pandas.core.frame.DataFrame'>\n",
      "RangeIndex: 4657 entries, 0 to 4656\n",
      "Data columns (total 4 columns):\n",
      " #   Column   Non-Null Count  Dtype \n",
      "---  ------   --------------  ----- \n",
      " 0   index    4657 non-null   int64 \n",
      " 1   title    4657 non-null   object\n",
      " 2   genre    4657 non-null   object\n",
      " 3   summary  4657 non-null   object\n",
      "dtypes: int64(1), object(3)\n",
      "memory usage: 145.7+ KB\n"
     ]
    }
   ],
   "source": [
    "books.info()"
   ]
  },
  {
   "cell_type": "code",
   "execution_count": 4,
   "id": "95871f03",
   "metadata": {},
   "outputs": [
    {
     "data": {
      "text/plain": [
       "array(['fantasy', 'science', 'crime', 'history', 'horror', 'thriller',\n",
       "       'psychology', 'romance', 'sports', 'travel'], dtype=object)"
      ]
     },
     "execution_count": 4,
     "metadata": {},
     "output_type": "execute_result"
    }
   ],
   "source": [
    "books[\"genre\"].unique()"
   ]
  },
  {
   "cell_type": "code",
   "execution_count": 5,
   "id": "92ee5d2a",
   "metadata": {},
   "outputs": [
    {
     "data": {
      "text/plain": [
       "thriller      1023\n",
       "fantasy        876\n",
       "science        647\n",
       "history        600\n",
       "horror         600\n",
       "crime          500\n",
       "romance        111\n",
       "psychology     100\n",
       "sports         100\n",
       "travel         100\n",
       "Name: genre, dtype: int64"
      ]
     },
     "execution_count": 5,
     "metadata": {},
     "output_type": "execute_result"
    }
   ],
   "source": [
    "books[\"genre\"].value_counts()"
   ]
  },
  {
   "cell_type": "code",
   "execution_count": 6,
   "id": "5044866b",
   "metadata": {},
   "outputs": [
    {
     "data": {
      "text/html": [
       "<div>\n",
       "<style scoped>\n",
       "    .dataframe tbody tr th:only-of-type {\n",
       "        vertical-align: middle;\n",
       "    }\n",
       "\n",
       "    .dataframe tbody tr th {\n",
       "        vertical-align: top;\n",
       "    }\n",
       "\n",
       "    .dataframe thead th {\n",
       "        text-align: right;\n",
       "    }\n",
       "</style>\n",
       "<table border=\"1\" class=\"dataframe\">\n",
       "  <thead>\n",
       "    <tr style=\"text-align: right;\">\n",
       "      <th></th>\n",
       "      <th>title</th>\n",
       "      <th>genre</th>\n",
       "      <th>summary</th>\n",
       "    </tr>\n",
       "  </thead>\n",
       "  <tbody>\n",
       "    <tr>\n",
       "      <th>0</th>\n",
       "      <td>Drowned Wednesday</td>\n",
       "      <td>fantasy</td>\n",
       "      <td>Drowned Wednesday is the first Trustee among ...</td>\n",
       "    </tr>\n",
       "    <tr>\n",
       "      <th>1</th>\n",
       "      <td>The Lost Hero</td>\n",
       "      <td>fantasy</td>\n",
       "      <td>As the book opens, Jason awakens on a school ...</td>\n",
       "    </tr>\n",
       "    <tr>\n",
       "      <th>2</th>\n",
       "      <td>The Eyes of the Overworld</td>\n",
       "      <td>fantasy</td>\n",
       "      <td>Cugel is easily persuaded by the merchant Fia...</td>\n",
       "    </tr>\n",
       "    <tr>\n",
       "      <th>3</th>\n",
       "      <td>Magic's Promise</td>\n",
       "      <td>fantasy</td>\n",
       "      <td>The book opens with Herald-Mage Vanyel return...</td>\n",
       "    </tr>\n",
       "    <tr>\n",
       "      <th>4</th>\n",
       "      <td>Taran Wanderer</td>\n",
       "      <td>fantasy</td>\n",
       "      <td>Taran and Gurgi have returned to Caer Dallben...</td>\n",
       "    </tr>\n",
       "    <tr>\n",
       "      <th>...</th>\n",
       "      <td>...</td>\n",
       "      <td>...</td>\n",
       "      <td>...</td>\n",
       "    </tr>\n",
       "    <tr>\n",
       "      <th>4652</th>\n",
       "      <td>Hounded</td>\n",
       "      <td>fantasy</td>\n",
       "      <td>Atticus O’Sullivan, last of the Druids, lives ...</td>\n",
       "    </tr>\n",
       "    <tr>\n",
       "      <th>4653</th>\n",
       "      <td>Charlie and the Chocolate Factory</td>\n",
       "      <td>fantasy</td>\n",
       "      <td>Charlie Bucket's wonderful adventure begins wh...</td>\n",
       "    </tr>\n",
       "    <tr>\n",
       "      <th>4654</th>\n",
       "      <td>Red Rising</td>\n",
       "      <td>fantasy</td>\n",
       "      <td>\"I live for the dream that my children will be...</td>\n",
       "    </tr>\n",
       "    <tr>\n",
       "      <th>4655</th>\n",
       "      <td>Frostbite</td>\n",
       "      <td>fantasy</td>\n",
       "      <td>Rose loves Dimitri, Dimitri might love Tasha, ...</td>\n",
       "    </tr>\n",
       "    <tr>\n",
       "      <th>4656</th>\n",
       "      <td>Radiance</td>\n",
       "      <td>fantasy</td>\n",
       "      <td>The Prince of no value\\nBrishen Khaskem, princ...</td>\n",
       "    </tr>\n",
       "  </tbody>\n",
       "</table>\n",
       "<p>4657 rows × 3 columns</p>\n",
       "</div>"
      ],
      "text/plain": [
       "                                  title    genre  \\\n",
       "0                     Drowned Wednesday  fantasy   \n",
       "1                         The Lost Hero  fantasy   \n",
       "2             The Eyes of the Overworld  fantasy   \n",
       "3                       Magic's Promise  fantasy   \n",
       "4                        Taran Wanderer  fantasy   \n",
       "...                                 ...      ...   \n",
       "4652                            Hounded  fantasy   \n",
       "4653  Charlie and the Chocolate Factory  fantasy   \n",
       "4654                         Red Rising  fantasy   \n",
       "4655                          Frostbite  fantasy   \n",
       "4656                           Radiance  fantasy   \n",
       "\n",
       "                                                summary  \n",
       "0      Drowned Wednesday is the first Trustee among ...  \n",
       "1      As the book opens, Jason awakens on a school ...  \n",
       "2      Cugel is easily persuaded by the merchant Fia...  \n",
       "3      The book opens with Herald-Mage Vanyel return...  \n",
       "4      Taran and Gurgi have returned to Caer Dallben...  \n",
       "...                                                 ...  \n",
       "4652  Atticus O’Sullivan, last of the Druids, lives ...  \n",
       "4653  Charlie Bucket's wonderful adventure begins wh...  \n",
       "4654  \"I live for the dream that my children will be...  \n",
       "4655  Rose loves Dimitri, Dimitri might love Tasha, ...  \n",
       "4656  The Prince of no value\\nBrishen Khaskem, princ...  \n",
       "\n",
       "[4657 rows x 3 columns]"
      ]
     },
     "execution_count": 6,
     "metadata": {},
     "output_type": "execute_result"
    }
   ],
   "source": [
    "books.drop(columns=\"index\", inplace=True)\n",
    "books"
   ]
  },
  {
   "cell_type": "markdown",
   "id": "a1d65a9d",
   "metadata": {},
   "source": [
    "### Visualising various genres"
   ]
  },
  {
   "cell_type": "code",
   "execution_count": 7,
   "id": "75cf99a5",
   "metadata": {},
   "outputs": [
    {
     "data": {
      "image/png": "[encoded data removed]",
      "text/plain": [
       "<Figure size 720x360 with 1 Axes>"
      ]
     },
     "metadata": {
      "needs_background": "light"
     },
     "output_type": "display_data"
    }
   ],
   "source": [
    "import matplotlib.pyplot as plt\n",
    "import seaborn as sns\n",
    "plt.figure(figsize=(10,5))\n",
    "graph = sns.countplot(x = books['genre'])"
   ]
  },
  {
   "cell_type": "markdown",
   "id": "0244d49f",
   "metadata": {},
   "source": [
    "### Cleaning Data - Summary Text\n",
    "\n",
    "##### Create a function to apply various cleaning processes on the summary text\n",
    "    Lowercasing the data\n",
    "    Removing Punctuations\n",
    "    Removing HTML COde and URL Links\n",
    "    Spell Check\n",
    "    Tokenization\n",
    "    Removing Stop Words\n",
    "    Normalization (Stemming, Lemmatization)\n",
    "    Removing extra space\n",
    "    Replacing the repetitions of punctations\n",
    "    Removing Numbers\n",
    "    Removing Emojis\n",
    "    Removing emoticons\n",
    "    Removing Contractions\n",
    "###### Code by ATHARVA INAMDAR on Kaggle\n",
    "    def clean_text(text):\n",
    "        text = str(text).lower() # Lowering the case\n",
    "        text = re.sub('\\[.*?\\]', '', text) #Remove any text in the square brackets\n",
    "        text = re.sub('https?://\\S+|www\\.\\S+', '', text) # Remove any links present \n",
    "        text = re.sub('<.*?>+', '', text) # \n",
    "        text = re.sub('[%s]' % re.escape(string.punctuation), '', text) # Remove punctuation\n",
    "        text = re.sub('\\n', '', text) # Removing the next line character\n",
    "        text = re.sub('\\w*\\d\\w*', '', text) # Removing the words contaitning numbers\n",
    "        text = re.sub('[^a-zA-Z]', ' ', text)\n",
    "        return text"
   ]
  },
  {
   "cell_type": "code",
   "execution_count": 8,
   "id": "5dec4296",
   "metadata": {},
   "outputs": [],
   "source": [
    "import re\n",
    "import string\n",
    "\n",
    "def clean_data(new_summary):\n",
    "    new_summary = str(new_summary).lower() # Lowering the case\n",
    "    new_summary = re.sub('\\[.*?\\]', '', new_summary) #Remove any text in the square brackets\n",
    "    new_summary = re.sub('https?://\\S+|www\\.\\S+', '', new_summary) # Remove any links present \n",
    "    new_summary = re.sub('<.*?>+', '', new_summary) # \n",
    "    new_summary = re.sub('[%s]' % re.escape(string.punctuation), '', new_summary) # Remove punctuation\n",
    "    new_summary = re.sub('\\n', '', new_summary) # Removing the next line character\n",
    "    new_summary = re.sub('\\w*\\d\\w*', '', new_summary) # Removing the words contaitning numbers\n",
    "    new_summary = re.sub('[^a-zA-Z]', ' ', new_summary)\n",
    "    return new_summary"
   ]
  },
  {
   "cell_type": "code",
   "execution_count": 9,
   "id": "22439c3f",
   "metadata": {
    "scrolled": true
   },
   "outputs": [
    {
     "data": {
      "text/html": [
       "<div>\n",
       "<style scoped>\n",
       "    .dataframe tbody tr th:only-of-type {\n",
       "        vertical-align: middle;\n",
       "    }\n",
       "\n",
       "    .dataframe tbody tr th {\n",
       "        vertical-align: top;\n",
       "    }\n",
       "\n",
       "    .dataframe thead th {\n",
       "        text-align: right;\n",
       "    }\n",
       "</style>\n",
       "<table border=\"1\" class=\"dataframe\">\n",
       "  <thead>\n",
       "    <tr style=\"text-align: right;\">\n",
       "      <th></th>\n",
       "      <th>title</th>\n",
       "      <th>genre</th>\n",
       "      <th>summary</th>\n",
       "    </tr>\n",
       "  </thead>\n",
       "  <tbody>\n",
       "    <tr>\n",
       "      <th>0</th>\n",
       "      <td>Drowned Wednesday</td>\n",
       "      <td>fantasy</td>\n",
       "      <td>drowned wednesday is the first trustee among ...</td>\n",
       "    </tr>\n",
       "    <tr>\n",
       "      <th>1</th>\n",
       "      <td>The Lost Hero</td>\n",
       "      <td>fantasy</td>\n",
       "      <td>as the book opens jason awakens on a school b...</td>\n",
       "    </tr>\n",
       "    <tr>\n",
       "      <th>2</th>\n",
       "      <td>The Eyes of the Overworld</td>\n",
       "      <td>fantasy</td>\n",
       "      <td>cugel is easily persuaded by the merchant fia...</td>\n",
       "    </tr>\n",
       "    <tr>\n",
       "      <th>3</th>\n",
       "      <td>Magic's Promise</td>\n",
       "      <td>fantasy</td>\n",
       "      <td>the book opens with heraldmage vanyel returni...</td>\n",
       "    </tr>\n",
       "    <tr>\n",
       "      <th>4</th>\n",
       "      <td>Taran Wanderer</td>\n",
       "      <td>fantasy</td>\n",
       "      <td>taran and gurgi have returned to caer dallben...</td>\n",
       "    </tr>\n",
       "    <tr>\n",
       "      <th>...</th>\n",
       "      <td>...</td>\n",
       "      <td>...</td>\n",
       "      <td>...</td>\n",
       "    </tr>\n",
       "    <tr>\n",
       "      <th>4652</th>\n",
       "      <td>Hounded</td>\n",
       "      <td>fantasy</td>\n",
       "      <td>atticus o sullivan last of the druids lives pe...</td>\n",
       "    </tr>\n",
       "    <tr>\n",
       "      <th>4653</th>\n",
       "      <td>Charlie and the Chocolate Factory</td>\n",
       "      <td>fantasy</td>\n",
       "      <td>charlie buckets wonderful adventure begins whe...</td>\n",
       "    </tr>\n",
       "    <tr>\n",
       "      <th>4654</th>\n",
       "      <td>Red Rising</td>\n",
       "      <td>fantasy</td>\n",
       "      <td>i live for the dream that my children will be ...</td>\n",
       "    </tr>\n",
       "    <tr>\n",
       "      <th>4655</th>\n",
       "      <td>Frostbite</td>\n",
       "      <td>fantasy</td>\n",
       "      <td>rose loves dimitri dimitri might love tasha an...</td>\n",
       "    </tr>\n",
       "    <tr>\n",
       "      <th>4656</th>\n",
       "      <td>Radiance</td>\n",
       "      <td>fantasy</td>\n",
       "      <td>the prince of no valuebrishen khaskem prince o...</td>\n",
       "    </tr>\n",
       "  </tbody>\n",
       "</table>\n",
       "<p>4657 rows × 3 columns</p>\n",
       "</div>"
      ],
      "text/plain": [
       "                                  title    genre  \\\n",
       "0                     Drowned Wednesday  fantasy   \n",
       "1                         The Lost Hero  fantasy   \n",
       "2             The Eyes of the Overworld  fantasy   \n",
       "3                       Magic's Promise  fantasy   \n",
       "4                        Taran Wanderer  fantasy   \n",
       "...                                 ...      ...   \n",
       "4652                            Hounded  fantasy   \n",
       "4653  Charlie and the Chocolate Factory  fantasy   \n",
       "4654                         Red Rising  fantasy   \n",
       "4655                          Frostbite  fantasy   \n",
       "4656                           Radiance  fantasy   \n",
       "\n",
       "                                                summary  \n",
       "0      drowned wednesday is the first trustee among ...  \n",
       "1      as the book opens jason awakens on a school b...  \n",
       "2      cugel is easily persuaded by the merchant fia...  \n",
       "3      the book opens with heraldmage vanyel returni...  \n",
       "4      taran and gurgi have returned to caer dallben...  \n",
       "...                                                 ...  \n",
       "4652  atticus o sullivan last of the druids lives pe...  \n",
       "4653  charlie buckets wonderful adventure begins whe...  \n",
       "4654  i live for the dream that my children will be ...  \n",
       "4655  rose loves dimitri dimitri might love tasha an...  \n",
       "4656  the prince of no valuebrishen khaskem prince o...  \n",
       "\n",
       "[4657 rows x 3 columns]"
      ]
     },
     "execution_count": 9,
     "metadata": {},
     "output_type": "execute_result"
    }
   ],
   "source": [
    "books['summary'] = books['summary'].apply(clean_data)\n",
    "books"
   ]
  },
  {
   "cell_type": "markdown",
   "id": "3ce44db0",
   "metadata": {},
   "source": [
    "### Processing Text Data"
   ]
  },
  {
   "cell_type": "code",
   "execution_count": null,
   "id": "e8d27232",
   "metadata": {},
   "outputs": [],
   "source": []
  },
  {
   "cell_type": "code",
   "execution_count": null,
   "id": "f38e03a6",
   "metadata": {},
   "outputs": [],
   "source": []
  },
  {
   "cell_type": "code",
   "execution_count": null,
   "id": "9acee606",
   "metadata": {},
   "outputs": [],
   "source": []
  }
 ],
 "metadata": {
  "kernelspec": {
   "display_name": "Python 3 (ipykernel)",
   "language": "python",
   "name": "python3"
  },
  "language_info": {
   "codemirror_mode": {
    "name": "ipython",
    "version": 3
   },
   "file_extension": ".py",
   "mimetype": "text/x-python",
   "name": "python",
   "nbconvert_exporter": "python",
   "pygments_lexer": "ipython3",
   "version": "3.10.6"
  },
  "vscode": {
   "interpreter": {
    "hash": "916dbcbb3f70747c44a77c7bcd40155683ae19c65e1c03b4aa3499c5328201f1"
   }
  }
 },
 "nbformat": 4,
 "nbformat_minor": 5
}
